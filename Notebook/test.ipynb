{
 "cells": [
  {
   "cell_type": "code",
   "execution_count": 2,
   "metadata": {},
   "outputs": [],
   "source": [
    "from src.utils import DatabaseManager\n",
    "\n",
    "db=DatabaseManager()\n",
    "df=db.execute_query('select * from cleaned_data',fetch=True)"
   ]
  },
  {
   "cell_type": "code",
   "execution_count": 3,
   "metadata": {},
   "outputs": [
    {
     "data": {
      "text/plain": [
       "Index(['education', 'income', 'kidhome', 'teenhome', 'recency', 'wines',\n",
       "       'fruits', 'meat', 'fish', 'sweets', 'gold', 'numdealspurchases',\n",
       "       'numwebpurchases', 'numcatalogpurchases', 'numstorepurchases',\n",
       "       'numwebvisitsmonth', 'acceptedcmp3', 'acceptedcmp4', 'acceptedcmp5',\n",
       "       'acceptedcmp1', 'acceptedcmp2', 'complain', 'response', 'customer_for',\n",
       "       'age', 'spent', 'living_with', 'children', 'family_size', 'is_parent'],\n",
       "      dtype='object')"
      ]
     },
     "execution_count": 3,
     "metadata": {},
     "output_type": "execute_result"
    }
   ],
   "source": [
    "df.columns"
   ]
  },
  {
   "cell_type": "code",
   "execution_count": 4,
   "metadata": {},
   "outputs": [
    {
     "data": {
      "text/plain": [
       "education               object\n",
       "income                 float64\n",
       "kidhome                  int64\n",
       "teenhome                 int64\n",
       "recency                  int64\n",
       "wines                    int64\n",
       "fruits                   int64\n",
       "meat                     int64\n",
       "fish                     int64\n",
       "sweets                   int64\n",
       "gold                     int64\n",
       "numdealspurchases        int64\n",
       "numwebpurchases          int64\n",
       "numcatalogpurchases      int64\n",
       "numstorepurchases        int64\n",
       "numwebvisitsmonth        int64\n",
       "acceptedcmp3             int64\n",
       "acceptedcmp4             int64\n",
       "acceptedcmp5             int64\n",
       "acceptedcmp1             int64\n",
       "acceptedcmp2             int64\n",
       "complain                 int64\n",
       "response                 int64\n",
       "customer_for             int64\n",
       "age                      int64\n",
       "spent                    int64\n",
       "living_with             object\n",
       "children                 int64\n",
       "family_size              int64\n",
       "is_parent               object\n",
       "dtype: object"
      ]
     },
     "execution_count": 4,
     "metadata": {},
     "output_type": "execute_result"
    }
   ],
   "source": [
    "df.dtypes"
   ]
  }
 ],
 "metadata": {
  "kernelspec": {
   "display_name": "Python 3",
   "language": "python",
   "name": "python3"
  },
  "language_info": {
   "codemirror_mode": {
    "name": "ipython",
    "version": 3
   },
   "file_extension": ".py",
   "mimetype": "text/x-python",
   "name": "python",
   "nbconvert_exporter": "python",
   "pygments_lexer": "ipython3",
   "version": "3.10.12"
  },
  "orig_nbformat": 4
 },
 "nbformat": 4,
 "nbformat_minor": 2
}
